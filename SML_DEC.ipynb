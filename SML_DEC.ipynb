{
 "nbformat": 4,
 "nbformat_minor": 0,
 "metadata": {
  "colab": {
   "provenance": []
  },
  "kernelspec": {
   "name": "python3",
   "language": "python",
   "display_name": "Python 3 (ipykernel)"
  },
  "language_info": {
   "name": "python"
  }
 },
 "cells": [
  {
   "cell_type": "code",
   "execution_count": 1,
   "metadata": {
    "id": "jMnOKzUg8H_R"
   },
   "outputs": [],
   "source": [
    "import pandas as pd\n"
   ]
  },
  {
   "cell_type": "code",
   "source": [
    "df = pd.read_csv(\"./train.csv\")\n",
    "\n",
    "df.columns\n"
   ],
   "metadata": {
    "colab": {
     "base_uri": "https://localhost:8080/"
    },
    "id": "qDgiMK_P8R92",
    "outputId": "1bed7f7a-76ec-406b-e794-cc764bce72f6"
   },
   "execution_count": 5,
   "outputs": [
    {
     "output_type": "execute_result",
     "data": {
      "text/plain": [
       "Index(['Number words female', 'Total words', 'Number of words lead',\n",
       "       'Difference in words lead and co-lead', 'Number of male actors', 'Year',\n",
       "       'Number of female actors', 'Number words male', 'Gross',\n",
       "       'Mean Age Male', 'Mean Age Female', 'Age Lead', 'Age Co-Lead', 'Lead'],\n",
       "      dtype='object')"
      ]
     },
     "metadata": {},
     "execution_count": 5
    }
   ]
  },
  {
   "cell_type": "markdown",
   "source": [
    "## Data Analysis"
   ],
   "metadata": {
    "id": "9HzRpx-FNJuq"
   }
  },
  {
   "cell_type": "markdown",
   "source": [
    "### Mean Gross by Lead"
   ],
   "metadata": {
    "id": "G-KD2nrvQHTF"
   }
  },
  {
   "cell_type": "code",
   "source": [
    "\n",
    "ax = df.groupby('Lead').Gross.mean().plot(kind='bar',color=['C0','C1'], title='Average Grorss per Lead Actor Gender')\n",
    "ax.set_ylabel(\"Gross\")"
   ],
   "metadata": {
    "colab": {
     "base_uri": "https://localhost:8080/",
     "height": 338
    },
    "id": "YR7my_6CNLY5",
    "outputId": "9e9b43f0-cb51-4d49-b45a-1221cc9a5a0d"
   },
   "execution_count": 25,
   "outputs": [
    {
     "output_type": "execute_result",
     "data": {
      "text/plain": [
       "Text(0, 0.5, 'Gross')"
      ]
     },
     "metadata": {},
     "execution_count": 25
    },
    {
     "output_type": "display_data",
     "data": {
      "text/plain": [
       "<Figure size 432x288 with 1 Axes>"
      ],
      "image/png": "[encoded data removed]"
     },
     "metadata": {
      "needs_background": "light"
     }
    }
   ]
  },
  {
   "cell_type": "markdown",
   "source": [
    "### Leads gender per Year"
   ],
   "metadata": {
    "id": "Vn8-cTPLQKUP"
   }
  },
  {
   "cell_type": "code",
   "source": [
    "a = df[['Lead','Year']].groupby(['Year', 'Lead']).size().sort_index().unstack().fillna(0)\n",
    "a = a[['Male','Female']]\n",
    "ax = a.plot(kind='bar', stacked=True, title=\"Female vs Male leads per year\", figsize=(15,3))\n",
    "ax.set_ylabel(\"Number of movies\")"
   ],
   "metadata": {
    "colab": {
     "base_uri": "https://localhost:8080/",
     "height": 273
    },
    "id": "jaiXrYIwR2sh",
    "outputId": "b7882d52-972b-4560-cb7a-2bad2e1220d7"
   },
   "execution_count": 51,
   "outputs": [
    {
     "output_type": "execute_result",
     "data": {
      "text/plain": [
       "Text(0, 0.5, 'Number of movies')"
      ]
     },
     "metadata": {},
     "execution_count": 51
    },
    {
     "output_type": "display_data",
     "data": {
      "text/plain": [
       "<Figure size 1080x216 with 1 Axes>"
      ],
      "image/png": "[encoded data removed]"
     },
     "metadata": {
      "needs_background": "light"
     }
    }
   ]
  },
  {
   "cell_type": "code",
   "source": [
    "import joblib\n",
    "import json\n",
    "def save_best_estimator(clf, name):\n",
    "  best_model_stats = {}\n",
    "  for key, val in clf.cv_results_.items():\n",
    "    real_val = val[clf.best_index_]\n",
    "    if 'numpy' in str(type(real_val)):\n",
    "      if 'float' in str(type(real_val)):\n",
    "        best_model_stats[key] = float(real_val) \n",
    "      else:\n",
    "        best_model_stats[key] = int(real_val) \n",
    "    else:\n",
    "      best_model_stats[key] = real_val\n",
    "  joblib.dump(clf.best_estimator_, f'{name}.pkl', compress = 1)\n",
    "  with open(f\"{name}_stats.json\", 'w') as jf:\n",
    "    json.dump(best_model_stats, jf, indent=4)"
   ],
   "metadata": {
    "id": "7tADobKkUYrl"
   },
   "execution_count": 39,
   "outputs": []
  },
  {
   "cell_type": "markdown",
   "source": [
    "# Training"
   ],
   "metadata": {
    "id": "MR2vdaBGUHfN"
   }
  },
  {
   "cell_type": "code",
   "source": [
    "x = df.drop(columns=\"Lead\")\n",
    "x.info"
   ],
   "metadata": {
    "colab": {
     "base_uri": "https://localhost:8080/"
    },
    "id": "O2vHb-Fs8dvb",
    "outputId": "99d60039-bbb5-4f2f-88fc-7f506861970e"
   },
   "execution_count": 6,
   "outputs": [
    {
     "output_type": "execute_result",
     "data": {
      "text/plain": [
       "<bound method DataFrame.info of       Number words female  Total words  Number of words lead  \\\n",
       "0                    1512         6394                2251.0   \n",
       "1                    1524         8780                2020.0   \n",
       "2                     155         4176                 942.0   \n",
       "3                    1073         9855                3440.0   \n",
       "4                    1317         7688                3835.0   \n",
       "...                   ...          ...                   ...   \n",
       "1034                  303         2398                1334.0   \n",
       "1035                  632         8404                1952.0   \n",
       "1036                 1326         2750                 877.0   \n",
       "1037                  462         3994                 775.0   \n",
       "1038                 2735        11946                3410.0   \n",
       "\n",
       "      Difference in words lead and co-lead  Number of male actors  Year  \\\n",
       "0                                      343                      2  1995   \n",
       "1                                     1219                      9  2001   \n",
       "2                                      787                      7  1968   \n",
       "3                                     2623                     12  2002   \n",
       "4                                     3149                      8  1988   \n",
       "...                                    ...                    ...   ...   \n",
       "1034                                  1166                      5  1973   \n",
       "1035                                   187                      6  1992   \n",
       "1036                                   356                      2  2000   \n",
       "1037                                    52                      8  1996   \n",
       "1038                                  1536                     13  2007   \n",
       "\n",
       "      Number of female actors  Number words male  Gross  Mean Age Male  \\\n",
       "0                           5               2631  142.0      51.500000   \n",
       "1                           4               5236   37.0      39.125000   \n",
       "2                           1               3079  376.0      42.500000   \n",
       "3                           2               5342   19.0      35.222222   \n",
       "4                           4               2536   40.0      45.250000   \n",
       "...                       ...                ...    ...            ...   \n",
       "1034                        2                761  174.0      43.200000   \n",
       "1035                        2               5820  172.0      37.166667   \n",
       "1036                        3                547   53.0      27.500000   \n",
       "1037                        3               2757   32.0      42.857143   \n",
       "1038                        4               5801   32.0      44.090909   \n",
       "\n",
       "      Mean Age Female  Age Lead  Age Co-Lead  \n",
       "0           42.333333      46.0         65.0  \n",
       "1           29.333333      58.0         34.0  \n",
       "2           37.000000      46.0         37.0  \n",
       "3           21.500000      33.0         23.0  \n",
       "4           45.000000      36.0         39.0  \n",
       "...               ...       ...          ...  \n",
       "1034        31.000000      46.0         24.0  \n",
       "1035        24.000000      21.0         34.0  \n",
       "1036        27.666667      28.0         25.0  \n",
       "1037        38.500000      29.0         32.0  \n",
       "1038        50.000000      38.0         48.0  \n",
       "\n",
       "[1039 rows x 13 columns]>"
      ]
     },
     "metadata": {},
     "execution_count": 6
    }
   ]
  },
  {
   "cell_type": "code",
   "source": [
    "y = df['Lead'].replace({\"Male\": 1, \"Female\": -1})\n",
    "y"
   ],
   "metadata": {
    "colab": {
     "base_uri": "https://localhost:8080/"
    },
    "id": "Rpztpzx28hxq",
    "outputId": "44faed44-485c-4b3b-a2c3-8d81c7abcb07"
   },
   "execution_count": 7,
   "outputs": [
    {
     "output_type": "execute_result",
     "data": {
      "text/plain": [
       "0      -1\n",
       "1       1\n",
       "2       1\n",
       "3       1\n",
       "4       1\n",
       "       ..\n",
       "1034    1\n",
       "1035   -1\n",
       "1036    1\n",
       "1037   -1\n",
       "1038    1\n",
       "Name: Lead, Length: 1039, dtype: int64"
      ]
     },
     "metadata": {},
     "execution_count": 7
    }
   ]
  },
  {
   "cell_type": "markdown",
   "source": [
    "## Decision Tree\n",
    "\n",
    "\n"
   ],
   "metadata": {
    "id": "MRy24DshBD7S"
   }
  },
  {
   "cell_type": "code",
   "source": [
    "from sklearn import tree\n",
    "from sklearn.model_selection import GridSearchCV\n",
    "from sklearn.pipeline import make_pipeline\n",
    "from sklearn.preprocessing import StandardScaler\n",
    "\n",
    "parameters = {'model__max_depth':range(3,20), 'model__min_samples_split': range(2,15)}\n",
    "model = Pipeline([('scaler', StandardScaler()), ('model', tree.DecisionTreeClassifier())])\n",
    "\n",
    "clf = GridSearchCV(model, parameters, n_jobs=4, cv=5)\n",
    "clf.fit(X=x, y=y)\n",
    "tree_model = clf.best_estimator_\n",
    "save_best_estimator(clf, \"decisionTree\")\n",
    "print (clf.best_score_, clf.best_params_) \n",
    "\n",
    "## 0.8065356744704572 {'model__max_depth': 7, 'model__min_samples_split': 3}\n"
   ],
   "metadata": {
    "colab": {
     "base_uri": "https://localhost:8080/"
    },
    "id": "CcHxzsDW9oA-",
    "outputId": "dae25fec-1102-4a5a-c254-a9bb5b571bda"
   },
   "execution_count": 40,
   "outputs": [
    {
     "output_type": "stream",
     "name": "stdout",
     "text": [
      "0.8065356744704572 {'model__max_depth': 7, 'model__min_samples_split': 3}\n"
     ]
    }
   ]
  },
  {
   "cell_type": "markdown",
   "source": [
    "## Random Forest"
   ],
   "metadata": {
    "id": "r8DHiNP-BHa5"
   }
  },
  {
   "cell_type": "code",
   "source": [
    "from sklearn.ensemble import RandomForestClassifier\n",
    "parameters = {'model__n_estimators':range(10,150, 10),'model__bootstrap': [True, False], 'model__min_samples_split': range(2,15)}\n",
    "\n",
    "model = Pipeline([('scaler', StandardScaler()), ('model', RandomForestClassifier())])\n",
    "\n",
    "clf = GridSearchCV(model, parameters, n_jobs=4, cv=5)\n",
    "clf.fit(X=x, y=y)\n",
    "randomforest_model = clf.best_estimator_\n",
    "save_best_estimator(clf, \"randomForest\")\n",
    "print (clf.best_score_, clf.best_params_)\n",
    "\n",
    "## 0.8536696395392047 {'model__bootstrap': False, 'model__min_samples_split': 4, 'model__n_estimators': 130}"
   ],
   "metadata": {
    "colab": {
     "base_uri": "https://localhost:8080/"
    },
    "id": "3H5jq3zOBN5n",
    "outputId": "8d64adfb-3df1-48ca-900c-325dc4b8ae93"
   },
   "execution_count": 41,
   "outputs": [
    {
     "output_type": "stream",
     "name": "stdout",
     "text": [
      "0.8536696395392047 {'model__bootstrap': False, 'model__min_samples_split': 4, 'model__n_estimators': 130}\n"
     ]
    }
   ]
  },
  {
   "cell_type": "markdown",
   "source": [
    "## Bagging"
   ],
   "metadata": {
    "id": "fL5rx5pBI9LS"
   }
  },
  {
   "cell_type": "code",
   "source": [
    "from sklearn.ensemble import BaggingClassifier\n",
    "parameters = {'model__n_estimators':range(5,150,5),'model__bootstrap': [True, False], 'model__bootstrap_features': [True, False]}\n",
    "model = Pipeline([('scaler', StandardScaler()), ('model', BaggingClassifier())])\n",
    "\n",
    "clf = GridSearchCV(model, parameters, n_jobs=4, cv=5)\n",
    "clf.fit(X=x, y=y)\n",
    "save_best_estimator(clf, \"bagging\")\n",
    "print (clf.best_score_, clf.best_params_)\n",
    "\n",
    "# 0.8613851727982164 {'model__bootstrap': True, 'model__bootstrap_features': False, 'model__n_estimators': 105}"
   ],
   "metadata": {
    "colab": {
     "base_uri": "https://localhost:8080/"
    },
    "id": "r7RzEyDmI-V_",
    "outputId": "d1a3d469-ebea-41a6-c649-db238f3e976c"
   },
   "execution_count": 43,
   "outputs": [
    {
     "output_type": "stream",
     "name": "stdout",
     "text": [
      "0.8613851727982164 {'model__bootstrap': True, 'model__bootstrap_features': False, 'model__n_estimators': 105}\n"
     ]
    }
   ]
  },
  {
   "cell_type": "code",
   "source": [],
   "metadata": {
    "id": "6MA5c7JijeK_"
   },
   "execution_count": null,
   "outputs": []
  }
 ]
}