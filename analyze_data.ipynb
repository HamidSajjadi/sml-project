{
 "cells": [
  {
   "cell_type": "code",
   "execution_count": 6,
   "metadata": {
    "collapsed": true
   },
   "outputs": [],
   "source": [
    "import pandas as pd"
   ]
  },
  {
   "cell_type": "code",
   "execution_count": 7,
   "outputs": [],
   "source": [
    "df = pd.read_csv(\"./data/train.csv\")\n",
    "df.info\n",
    "\n",
    "Y = df['Lead']\n",
    "X = df.drop(columns=\"Lead\")"
   ],
   "metadata": {
    "collapsed": false,
    "pycharm": {
     "name": "#%%\n"
    }
   }
  },
  {
   "cell_type": "code",
   "execution_count": 8,
   "outputs": [
    {
     "data": {
      "text/plain": "      Number words female  Total words  Number of words lead  \\\n0               -0.381165    -0.676265             -0.622979   \n1               -0.375603    -0.326278             -0.700463   \n2               -1.010217    -1.001609             -1.062056   \n3               -0.584668    -0.168593             -0.224153   \n4               -0.471559    -0.486457             -0.091658   \n...                   ...          ...                   ...   \n1034            -0.941610    -1.262413             -0.930568   \n1035            -0.789098    -0.381431             -0.723273   \n1036            -0.467387    -1.210780             -1.083859   \n1037            -0.867904    -1.028306             -1.118073   \n1038             0.185769     0.138122             -0.234216   \n\n      Difference in words lead and co-lead  Number of male actors      Year  \\\n0                                -0.873247              -1.478194 -0.467237   \n1                                -0.522672               0.316016  0.109318   \n2                                -0.695558              -0.196616 -3.061737   \n3                                 0.039210               1.084963  0.205411   \n4                                 0.249716               0.059700 -1.139885   \n...                                    ...                    ...       ...   \n1034                             -0.543882              -0.709247 -2.581274   \n1035                             -0.935678              -0.452931 -0.755515   \n1036                             -0.868045              -1.478194  0.013225   \n1037                             -0.989706               0.059700 -0.371145   \n1038                             -0.395808               1.341278  0.685873   \n\n      Number of female actors  Number words male     Gross  Mean Age Male  \\\n0                    0.714754          -0.564932  0.203285       1.170028   \n1                    0.235947           0.197242 -0.488590      -0.413038   \n2                   -1.200473          -0.433856  1.745177       0.018707   \n3                   -0.721666           0.228255 -0.607197      -0.912299   \n4                    0.235947          -0.592727 -0.468822       0.370499   \n...                       ...                ...       ...            ...   \n1034                -0.721666          -1.112058  0.414142       0.108254   \n1035                -0.721666           0.368109  0.400963      -0.663557   \n1036                -0.242860          -1.174671 -0.383161      -1.900161   \n1037                -0.242860          -0.528067 -0.521536       0.064394   \n1038                 0.235947           0.362550 -0.521536       0.222223   \n\n      Mean Age Female  Age Lead  Age Co-Lead  \n0            0.714928  0.592869     2.449963  \n1           -0.736420  1.569598    -0.123357  \n2            0.119503  0.592869     0.125674  \n3           -1.610950 -0.465255    -1.036470  \n4            1.012640 -0.221072     0.291695  \n...               ...       ...          ...  \n1034        -0.550350  0.592869    -0.953460  \n1035        -1.331844 -1.441984    -0.123357  \n1036        -0.922490 -0.872225    -0.870450  \n1037         0.286966 -0.790831    -0.289378  \n1038         1.570851 -0.058284     1.038787  \n\n[1039 rows x 13 columns]",
      "text/html": "<div>\n<style scoped>\n    .dataframe tbody tr th:only-of-type {\n        vertical-align: middle;\n    }\n\n    .dataframe tbody tr th {\n        vertical-align: top;\n    }\n\n    .dataframe thead th {\n        text-align: right;\n    }\n</style>\n<table border=\"1\" class=\"dataframe\">\n  <thead>\n    <tr style=\"text-align: right;\">\n      <th></th>\n      <th>Number words female</th>\n      <th>Total words</th>\n      <th>Number of words lead</th>\n      <th>Difference in words lead and co-lead</th>\n      <th>Number of male actors</th>\n      <th>Year</th>\n      <th>Number of female actors</th>\n      <th>Number words male</th>\n      <th>Gross</th>\n      <th>Mean Age Male</th>\n      <th>Mean Age Female</th>\n      <th>Age Lead</th>\n      <th>Age Co-Lead</th>\n    </tr>\n  </thead>\n  <tbody>\n    <tr>\n      <th>0</th>\n      <td>-0.381165</td>\n      <td>-0.676265</td>\n      <td>-0.622979</td>\n      <td>-0.873247</td>\n      <td>-1.478194</td>\n      <td>-0.467237</td>\n      <td>0.714754</td>\n      <td>-0.564932</td>\n      <td>0.203285</td>\n      <td>1.170028</td>\n      <td>0.714928</td>\n      <td>0.592869</td>\n      <td>2.449963</td>\n    </tr>\n    <tr>\n      <th>1</th>\n      <td>-0.375603</td>\n      <td>-0.326278</td>\n      <td>-0.700463</td>\n      <td>-0.522672</td>\n      <td>0.316016</td>\n      <td>0.109318</td>\n      <td>0.235947</td>\n      <td>0.197242</td>\n      <td>-0.488590</td>\n      <td>-0.413038</td>\n      <td>-0.736420</td>\n      <td>1.569598</td>\n      <td>-0.123357</td>\n    </tr>\n    <tr>\n      <th>2</th>\n      <td>-1.010217</td>\n      <td>-1.001609</td>\n      <td>-1.062056</td>\n      <td>-0.695558</td>\n      <td>-0.196616</td>\n      <td>-3.061737</td>\n      <td>-1.200473</td>\n      <td>-0.433856</td>\n      <td>1.745177</td>\n      <td>0.018707</td>\n      <td>0.119503</td>\n      <td>0.592869</td>\n      <td>0.125674</td>\n    </tr>\n    <tr>\n      <th>3</th>\n      <td>-0.584668</td>\n      <td>-0.168593</td>\n      <td>-0.224153</td>\n      <td>0.039210</td>\n      <td>1.084963</td>\n      <td>0.205411</td>\n      <td>-0.721666</td>\n      <td>0.228255</td>\n      <td>-0.607197</td>\n      <td>-0.912299</td>\n      <td>-1.610950</td>\n      <td>-0.465255</td>\n      <td>-1.036470</td>\n    </tr>\n    <tr>\n      <th>4</th>\n      <td>-0.471559</td>\n      <td>-0.486457</td>\n      <td>-0.091658</td>\n      <td>0.249716</td>\n      <td>0.059700</td>\n      <td>-1.139885</td>\n      <td>0.235947</td>\n      <td>-0.592727</td>\n      <td>-0.468822</td>\n      <td>0.370499</td>\n      <td>1.012640</td>\n      <td>-0.221072</td>\n      <td>0.291695</td>\n    </tr>\n    <tr>\n      <th>...</th>\n      <td>...</td>\n      <td>...</td>\n      <td>...</td>\n      <td>...</td>\n      <td>...</td>\n      <td>...</td>\n      <td>...</td>\n      <td>...</td>\n      <td>...</td>\n      <td>...</td>\n      <td>...</td>\n      <td>...</td>\n      <td>...</td>\n    </tr>\n    <tr>\n      <th>1034</th>\n      <td>-0.941610</td>\n      <td>-1.262413</td>\n      <td>-0.930568</td>\n      <td>-0.543882</td>\n      <td>-0.709247</td>\n      <td>-2.581274</td>\n      <td>-0.721666</td>\n      <td>-1.112058</td>\n      <td>0.414142</td>\n      <td>0.108254</td>\n      <td>-0.550350</td>\n      <td>0.592869</td>\n      <td>-0.953460</td>\n    </tr>\n    <tr>\n      <th>1035</th>\n      <td>-0.789098</td>\n      <td>-0.381431</td>\n      <td>-0.723273</td>\n      <td>-0.935678</td>\n      <td>-0.452931</td>\n      <td>-0.755515</td>\n      <td>-0.721666</td>\n      <td>0.368109</td>\n      <td>0.400963</td>\n      <td>-0.663557</td>\n      <td>-1.331844</td>\n      <td>-1.441984</td>\n      <td>-0.123357</td>\n    </tr>\n    <tr>\n      <th>1036</th>\n      <td>-0.467387</td>\n      <td>-1.210780</td>\n      <td>-1.083859</td>\n      <td>-0.868045</td>\n      <td>-1.478194</td>\n      <td>0.013225</td>\n      <td>-0.242860</td>\n      <td>-1.174671</td>\n      <td>-0.383161</td>\n      <td>-1.900161</td>\n      <td>-0.922490</td>\n      <td>-0.872225</td>\n      <td>-0.870450</td>\n    </tr>\n    <tr>\n      <th>1037</th>\n      <td>-0.867904</td>\n      <td>-1.028306</td>\n      <td>-1.118073</td>\n      <td>-0.989706</td>\n      <td>0.059700</td>\n      <td>-0.371145</td>\n      <td>-0.242860</td>\n      <td>-0.528067</td>\n      <td>-0.521536</td>\n      <td>0.064394</td>\n      <td>0.286966</td>\n      <td>-0.790831</td>\n      <td>-0.289378</td>\n    </tr>\n    <tr>\n      <th>1038</th>\n      <td>0.185769</td>\n      <td>0.138122</td>\n      <td>-0.234216</td>\n      <td>-0.395808</td>\n      <td>1.341278</td>\n      <td>0.685873</td>\n      <td>0.235947</td>\n      <td>0.362550</td>\n      <td>-0.521536</td>\n      <td>0.222223</td>\n      <td>1.570851</td>\n      <td>-0.058284</td>\n      <td>1.038787</td>\n    </tr>\n  </tbody>\n</table>\n<p>1039 rows × 13 columns</p>\n</div>"
     },
     "execution_count": 8,
     "metadata": {},
     "output_type": "execute_result"
    }
   ],
   "source": [
    "X=(X-X.mean())/X.std()\n",
    "X"
   ],
   "metadata": {
    "collapsed": false,
    "pycharm": {
     "name": "#%%\n"
    }
   }
  },
  {
   "cell_type": "code",
   "execution_count": null,
   "outputs": [],
   "source": [],
   "metadata": {
    "collapsed": false,
    "pycharm": {
     "name": "#%%\n"
    }
   }
  }
 ],
 "metadata": {
  "kernelspec": {
   "display_name": "Python 3",
   "language": "python",
   "name": "python3"
  },
  "language_info": {
   "codemirror_mode": {
    "name": "ipython",
    "version": 2
   },
   "file_extension": ".py",
   "mimetype": "text/x-python",
   "name": "python",
   "nbconvert_exporter": "python",
   "pygments_lexer": "ipython2",
   "version": "2.7.6"
  }
 },
 "nbformat": 4,
 "nbformat_minor": 0
}